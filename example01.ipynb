{
 "cells": [
  {
   "cell_type": "code",
   "execution_count": 4,
   "metadata": {},
   "outputs": [],
   "source": [
    "import argparse\n",
    "import os\n",
    "import shutil\n",
    "from random import random, randint, sample\n",
    "\n",
    "import numpy as np\n",
    "import torch\n",
    "import torch.nn as nn\n",
    "from tensorboardX import SummaryWriter\n",
    "\n",
    "from src.deep_q_network import DeepQNetwork\n",
    "from src.tetris import Tetris\n",
    "from collections import deque"
   ]
  },
  {
   "cell_type": "code",
   "execution_count": 5,
   "metadata": {},
   "outputs": [],
   "source": [
    "def get_args():\n",
    "    parser = argparse.ArgumentParser(\n",
    "        \"\"\"Implementation of Deep Q Network to play Tetris\"\"\")# パーサを作る\n",
    "    # parser.add_argumentで受け取る引数を追加していく\n",
    "    # ('--xxx')オプション引数（指定しなくても良い引数）を追加\n",
    "    parser.add_argument(\"--width\", type=int, default=10, help=\"The common width for all images\")\n",
    "    parser.add_argument(\"--height\", type=int, default=20, help=\"The common height for all images\")\n",
    "    parser.add_argument(\"--block_size\", type=int, default=30, help=\"Size of a block\")\n",
    "    parser.add_argument(\"--batch_size\", type=int, default=512, help=\"The number of images per batch\")\n",
    "    parser.add_argument(\"--lr\", type=float, default=1e-3)\n",
    "    parser.add_argument(\"--gamma\", type=float, default=0.99)\n",
    "    parser.add_argument(\"--initial_epsilon\", type=float, default=1)\n",
    "    parser.add_argument(\"--final_epsilon\", type=float, default=1e-3)\n",
    "    parser.add_argument(\"--num_decay_epochs\", type=float, default=2000)\n",
    "    parser.add_argument(\"--num_epochs\", type=int, default=3000)\n",
    "    parser.add_argument(\"--save_interval\", type=int, default=1000)\n",
    "    parser.add_argument(\"--replay_memory_size\", type=int, default=30000,\n",
    "                        help=\"Number of epoches between testing phases\")\n",
    "    parser.add_argument(\"--log_path\", type=str, default=\"tensorboard\")\n",
    "    parser.add_argument(\"--saved_path\", type=str, default=\"trained_models\")\n",
    "\n",
    "    args = parser.parse_args()# 引数を解析\n",
    "    return args"
   ]
  },
  {
   "cell_type": "code",
   "execution_count": 6,
   "metadata": {},
   "outputs": [],
   "source": [
    "def train(opt):\n",
    "    if torch.cuda.is_available():\n",
    "        torch.cuda.manual_seed(123)\n",
    "    else:\n",
    "        torch.manual_seed(123)\n",
    "    if os.path.isdir(opt.log_path):\n",
    "        shutil.rmtree(opt.log_path)\n",
    "    os.makedirs(opt.log_path)\n",
    "    writer = SummaryWriter(opt.log_path)\n",
    "    env = Tetris(width=opt.width, height=opt.height, block_size=opt.block_size)\n",
    "    model = DeepQNetwork()\n",
    "    optimizer = torch.optim.Adam(model.parameters(), lr=opt.lr)\n",
    "    criterion = nn.MSELoss()\n",
    "\n",
    "    state = env.reset()\n",
    "    if torch.cuda.is_available():\n",
    "        model.cuda()\n",
    "        state = state.cuda()\n",
    "\n",
    "    replay_memory = deque(maxlen=opt.replay_memory_size)\n",
    "    epoch = 0\n",
    "    while epoch < opt.num_epochs:\n",
    "        next_steps = env.get_next_states()\n",
    "        # Exploration or exploitation\n",
    "        epsilon = opt.final_epsilon + (max(opt.num_decay_epochs - epoch, 0) * (\n",
    "                opt.initial_epsilon - opt.final_epsilon) / opt.num_decay_epochs)\n",
    "        u = random()\n",
    "        random_action = u <= epsilon\n",
    "        next_actions, next_states = zip(*next_steps.items())\n",
    "        next_states = torch.stack(next_states)\n",
    "        if torch.cuda.is_available():\n",
    "            next_states = next_states.cuda()\n",
    "        model.eval()\n",
    "        with torch.no_grad():\n",
    "            predictions = model(next_states)[:, 0]\n",
    "        model.train()\n",
    "        if random_action:\n",
    "            index = randint(0, len(next_steps) - 1)\n",
    "        else:\n",
    "            index = torch.argmax(predictions).item()\n",
    "\n",
    "        next_state = next_states[index, :]\n",
    "        action = next_actions[index]\n",
    "\n",
    "        reward, done = env.step(action, render=True)\n",
    "\n",
    "        if torch.cuda.is_available():\n",
    "            next_state = next_state.cuda()\n",
    "        replay_memory.append([state, reward, next_state, done])\n",
    "        if done:\n",
    "            final_score = env.score\n",
    "            final_tetrominoes = env.tetrominoes\n",
    "            final_cleared_lines = env.cleared_lines\n",
    "            state = env.reset()\n",
    "            if torch.cuda.is_available():\n",
    "                state = state.cuda()\n",
    "        else:\n",
    "            state = next_state\n",
    "            continue\n",
    "        if len(replay_memory) < opt.replay_memory_size / 10:\n",
    "            continue\n",
    "        epoch += 1\n",
    "        batch = sample(replay_memory, min(len(replay_memory), opt.batch_size))\n",
    "        state_batch, reward_batch, next_state_batch, done_batch = zip(*batch)\n",
    "        state_batch = torch.stack(tuple(state for state in state_batch))\n",
    "        reward_batch = torch.from_numpy(np.array(reward_batch, dtype=np.float32)[:, None])\n",
    "        next_state_batch = torch.stack(tuple(state for state in next_state_batch))\n",
    "\n",
    "        if torch.cuda.is_available():\n",
    "            state_batch = state_batch.cuda()\n",
    "            reward_batch = reward_batch.cuda()\n",
    "            next_state_batch = next_state_batch.cuda()\n",
    "\n",
    "        q_values = model(state_batch)\n",
    "        model.eval()\n",
    "        with torch.no_grad():\n",
    "            next_prediction_batch = model(next_state_batch)\n",
    "        model.train()\n",
    "\n",
    "        y_batch = torch.cat(\n",
    "            tuple(reward if done else reward + opt.gamma * prediction for reward, done, prediction in\n",
    "                  zip(reward_batch, done_batch, next_prediction_batch)))[:, None]\n",
    "\n",
    "        optimizer.zero_grad()\n",
    "        loss = criterion(q_values, y_batch)\n",
    "        loss.backward()\n",
    "        optimizer.step()\n",
    "\n",
    "        print(\"Epoch: {}/{}, Action: {}, Score: {}, Tetrominoes {}, Cleared lines: {}\".format(\n",
    "            epoch,\n",
    "            opt.num_epochs,\n",
    "            action,\n",
    "            final_score,\n",
    "            final_tetrominoes,\n",
    "            final_cleared_lines))\n",
    "        writer.add_scalar('Train/Score', final_score, epoch - 1)\n",
    "        writer.add_scalar('Train/Tetrominoes', final_tetrominoes, epoch - 1)\n",
    "        writer.add_scalar('Train/Cleared lines', final_cleared_lines, epoch - 1)\n",
    "\n",
    "        if epoch > 0 and epoch % opt.save_interval == 0:\n",
    "            torch.save(model, \"{}/tetris_{}\".format(opt.saved_path, epoch))\n",
    "\n",
    "    torch.save(model, \"{}/tetris\".format(opt.saved_path))"
   ]
  },
  {
   "cell_type": "code",
   "execution_count": 7,
   "metadata": {},
   "outputs": [
    {
     "name": "stderr",
     "output_type": "stream",
     "text": [
      "usage: Implementation of Deep Q Network to play Tetris [-h] [--width WIDTH]\n",
      "                                                       [--height HEIGHT]\n",
      "                                                       [--block_size BLOCK_SIZE]\n",
      "                                                       [--batch_size BATCH_SIZE]\n",
      "                                                       [--lr LR]\n",
      "                                                       [--gamma GAMMA]\n",
      "                                                       [--initial_epsilon INITIAL_EPSILON]\n",
      "                                                       [--final_epsilon FINAL_EPSILON]\n",
      "                                                       [--num_decay_epochs NUM_DECAY_EPOCHS]\n",
      "                                                       [--num_epochs NUM_EPOCHS]\n",
      "                                                       [--save_interval SAVE_INTERVAL]\n",
      "                                                       [--replay_memory_size REPLAY_MEMORY_SIZE]\n",
      "                                                       [--log_path LOG_PATH]\n",
      "                                                       [--saved_path SAVED_PATH]\n",
      "Implementation of Deep Q Network to play Tetris: error: unrecognized arguments: -f C:\\Users\\y.inoue\\AppData\\Roaming\\jupyter\\runtime\\kernel-db6f2926-6d89-456c-bc38-d6e794b6e92a.json\n"
     ]
    },
    {
     "ename": "SystemExit",
     "evalue": "2",
     "output_type": "error",
     "traceback": [
      "An exception has occurred, use %tb to see the full traceback.\n",
      "\u001b[1;31mSystemExit\u001b[0m\u001b[1;31m:\u001b[0m 2\n"
     ]
    },
    {
     "name": "stderr",
     "output_type": "stream",
     "text": [
      "C:\\Users\\y.inoue\\Anaconda3\\lib\\site-packages\\IPython\\core\\interactiveshell.py:3339: UserWarning: To exit: use 'exit', 'quit', or Ctrl-D.\n",
      "  warn(\"To exit: use 'exit', 'quit', or Ctrl-D.\", stacklevel=1)\n"
     ]
    }
   ],
   "source": [
    "if __name__ == \"__main__\":\n",
    "    opt = get_args()\n",
    "    print(opt)\n",
    "    train(opt)"
   ]
  },
  {
   "cell_type": "code",
   "execution_count": 1,
   "metadata": {},
   "outputs": [],
   "source": [
    "import numpy as np\n",
    "from PIL import Image\n",
    "import cv2\n",
    "from matplotlib import style\n",
    "import torch\n",
    "import random\n",
    "\n",
    "style.use(\"ggplot\")\n",
    "\n",
    "class Tetris:\n",
    "    piece_colors = [\n",
    "        (0, 0, 0),\n",
    "        (255, 255, 0),\n",
    "        (147, 88, 254),\n",
    "        (54, 175, 144),\n",
    "        (255, 0, 0),\n",
    "        (102, 217, 238),\n",
    "        (254, 151, 32),\n",
    "        (0, 0, 255)\n",
    "    ]\n",
    "\n",
    "    pieces = [\n",
    "        [[1, 1],\n",
    "         [1, 1]],\n",
    "\n",
    "        [[0, 2, 0],\n",
    "         [2, 2, 2]],\n",
    "\n",
    "        [[0, 3, 3],\n",
    "         [3, 3, 0]],\n",
    "\n",
    "        [[4, 4, 0],\n",
    "         [0, 4, 4]],\n",
    "\n",
    "        [[5, 5, 5, 5]],\n",
    "\n",
    "        [[0, 0, 6],\n",
    "         [6, 6, 6]],\n",
    "\n",
    "        [[7, 0, 0],\n",
    "         [7, 7, 7]]\n",
    "    ]\n",
    "\n",
    "    def __init__(self, height=20, width=10, block_size=20):\n",
    "        self.height = height  # 高さ\n",
    "        self.width = width  # 幅\n",
    "        self.block_size = block_size # 1ブロック(ピクセル)のサイズ\n",
    "        self.extra_board = np.ones((self.height * self.block_size, self.width * int(self.block_size / 2), 3),\n",
    "                                   dtype=np.uint8) * np.array([204, 204, 255], dtype=np.uint8)\n",
    "        self.text_color = (200, 20, 220)\n",
    "        self.reset()\n",
    "\n",
    "    def reset(self):  # 初期状態\n",
    "        self.board = [[0] * self.width for _ in range(self.height)]\n",
    "        self.score = 0\n",
    "        self.tetrominoes = 0\n",
    "        self.cleared_lines = 0\n",
    "        self.bag = list(range(len(self.pieces))) #[0,1,...,6] #len(self.pieces)=7\n",
    "        random.shuffle(self.bag) # bag=[4,2,3,0,6,5,1]とか\n",
    "        self.ind = self.bag.pop() # bagの後ろから要素を取り出す (ind=1→5→6...)\n",
    "        self.piece = [row[:] for row in self.pieces[self.ind]] # piecesのind番目を取り出す\n",
    "        self.current_pos = {\"x\": self.width // 2 - len(self.piece[0]) // 2, \"y\": 0}\n",
    "        self.gameover = False\n",
    "        return self.get_state_properties(self.board)\n",
    "\n",
    "    def rotate(self, piece):\n",
    "        num_rows_orig = num_cols_new = len(piece)\n",
    "        num_rows_new = len(piece[0])\n",
    "        rotated_array = []\n",
    "\n",
    "        for i in range(num_rows_new):\n",
    "            new_row = [0] * num_cols_new\n",
    "            for j in range(num_cols_new):\n",
    "                new_row[j] = piece[(num_rows_orig - 1) - j][i]\n",
    "            rotated_array.append(new_row)\n",
    "        return rotated_array\n",
    "\n",
    "    def get_state_properties(self, board):\n",
    "        lines_cleared, board = self.check_cleared_rows(board)\n",
    "        holes = self.get_holes(board)\n",
    "        bumpiness, height = self.get_bumpiness_and_height(board)\n",
    "\n",
    "        return torch.FloatTensor([lines_cleared, holes, bumpiness, height])\n",
    "\n",
    "    def get_holes(self, board):\n",
    "        num_holes = 0\n",
    "        for col in zip(*board):\n",
    "            row = 0\n",
    "            while row < self.height and col[row] == 0:\n",
    "                row += 1\n",
    "            num_holes += len([x for x in col[row + 1:] if x == 0])\n",
    "        return num_holes\n",
    "\n",
    "    def get_bumpiness_and_height(self, board):\n",
    "        board = np.array(board)\n",
    "        mask = board != 0\n",
    "        invert_heights = np.where(mask.any(axis=0), np.argmax(mask, axis=0), self.height)\n",
    "        heights = self.height - invert_heights\n",
    "        total_height = np.sum(heights)\n",
    "        currs = heights[:-1]\n",
    "        nexts = heights[1:]\n",
    "        diffs = np.abs(currs - nexts)\n",
    "        total_bumpiness = np.sum(diffs)\n",
    "        return total_bumpiness, total_height\n",
    "\n",
    "    def get_next_states(self):\n",
    "        states = {}\n",
    "        piece_id = self.ind  # 0～6\n",
    "        curr_piece = [row[:] for row in self.piece] # 1ピース\n",
    "        # 何回回転すれば元の形に戻るか\n",
    "        if piece_id == 0:  # O番目のpiece\n",
    "            num_rotations = 1  # 回転数\n",
    "        elif piece_id == 2 or piece_id == 3 or piece_id == 4:\n",
    "            num_rotations = 2\n",
    "        else:\n",
    "            num_rotations = 4\n",
    "\n",
    "        for i in range(num_rotations):\n",
    "            valid_xs = self.width - len(curr_piece[0]) # 幅-ピースの横幅\n",
    "            for x in range(valid_xs + 1):\n",
    "                piece = [row[:] for row in curr_piece]\n",
    "                pos = {\"x\": x, \"y\": 0}\n",
    "                while not self.check_collision(piece, pos):\n",
    "                    pos[\"y\"] += 1\n",
    "                self.truncate(piece, pos)\n",
    "                board = self.store(piece, pos)\n",
    "                states[(x, i)] = self.get_state_properties(board)\n",
    "            curr_piece = self.rotate(curr_piece)\n",
    "        return states\n",
    "\n",
    "    def get_current_board_state(self):\n",
    "        board = [x[:] for x in self.board]\n",
    "        for y in range(len(self.piece)):\n",
    "            for x in range(len(self.piece[y])):\n",
    "                board[y + self.current_pos[\"y\"]][x + self.current_pos[\"x\"]] = self.piece[y][x]\n",
    "        return board\n",
    "\n",
    "    def new_piece(self):\n",
    "        if not len(self.bag):\n",
    "            self.bag = list(range(len(self.pieces)))\n",
    "            random.shuffle(self.bag)\n",
    "        self.ind = self.bag.pop()\n",
    "        self.piece = [row[:] for row in self.pieces[self.ind]]\n",
    "        self.current_pos = {\"x\": self.width // 2 - len(self.piece[0]) // 2,\n",
    "                            \"y\": 0\n",
    "                            }\n",
    "        if self.check_collision(self.piece, self.current_pos):\n",
    "            self.gameover = True\n",
    "\n",
    "    def check_collision(self, piece, pos):\n",
    "        future_y = pos[\"y\"] + 1\n",
    "        for y in range(len(piece)):\n",
    "            for x in range(len(piece[y])):\n",
    "                if future_y + y > self.height - 1 or self.board[future_y + y][pos[\"x\"] + x] and piece[y][x]:\n",
    "                    return True\n",
    "        return False\n",
    "\n",
    "    def truncate(self, piece, pos):\n",
    "        gameover = False\n",
    "        last_collision_row = -1\n",
    "        for y in range(len(piece)):\n",
    "            for x in range(len(piece[y])):\n",
    "                if self.board[pos[\"y\"] + y][pos[\"x\"] + x] and piece[y][x]:\n",
    "                    if y > last_collision_row:\n",
    "                        last_collision_row = y\n",
    "\n",
    "        if pos[\"y\"] - (len(piece) - last_collision_row) < 0 and last_collision_row > -1:\n",
    "            while last_collision_row >= 0 and len(piece) > 1:\n",
    "                gameover = True\n",
    "                last_collision_row = -1\n",
    "                del piece[0]\n",
    "                for y in range(len(piece)):\n",
    "                    for x in range(len(piece[y])):\n",
    "                        if self.board[pos[\"y\"] + y][pos[\"x\"] + x] and piece[y][x] and y > last_collision_row:\n",
    "                            last_collision_row = y\n",
    "        return gameover\n",
    "\n",
    "    def store(self, piece, pos):\n",
    "        board = [x[:] for x in self.board]\n",
    "        for y in range(len(piece)):\n",
    "            for x in range(len(piece[y])):\n",
    "                if piece[y][x] and not board[y + pos[\"y\"]][x + pos[\"x\"]]:\n",
    "                    board[y + pos[\"y\"]][x + pos[\"x\"]] = piece[y][x]\n",
    "        return board\n",
    "\n",
    "    def check_cleared_rows(self, board):\n",
    "        to_delete = []\n",
    "        for i, row in enumerate(board[::-1]):\n",
    "            if 0 not in row:\n",
    "                to_delete.append(len(board) - 1 - i)\n",
    "        if len(to_delete) > 0:\n",
    "            board = self.remove_row(board, to_delete)\n",
    "        return len(to_delete), board\n",
    "\n",
    "    def remove_row(self, board, indices):\n",
    "        for i in indices[::-1]:\n",
    "            del board[i]\n",
    "            board = [[0 for _ in range(self.width)]] + board\n",
    "        return board\n",
    "\n",
    "    def step(self, action, render=True, video=None):\n",
    "        x, num_rotations = action\n",
    "        self.current_pos = {\"x\": x, \"y\": 0}\n",
    "        for _ in range(num_rotations):\n",
    "            self.piece = self.rotate(self.piece)\n",
    "\n",
    "        while not self.check_collision(self.piece, self.current_pos):\n",
    "            self.current_pos[\"y\"] += 1\n",
    "            if render:\n",
    "                self.render(video)\n",
    "\n",
    "        overflow = self.truncate(self.piece, self.current_pos)\n",
    "        if overflow:\n",
    "            self.gameover = True\n",
    "\n",
    "        self.board = self.store(self.piece, self.current_pos)\n",
    "\n",
    "        lines_cleared, self.board = self.check_cleared_rows(self.board)\n",
    "        score = 1 + (lines_cleared ** 2) * self.width\n",
    "        self.score += score\n",
    "        self.tetrominoes += 1\n",
    "        self.cleared_lines += lines_cleared\n",
    "        if not self.gameover:\n",
    "            self.new_piece()\n",
    "        if self.gameover:\n",
    "            self.score -= 2\n",
    "\n",
    "        return score, self.gameover\n",
    "\n",
    "    def render(self, video=None):\n",
    "        if not self.gameover:\n",
    "            img = [self.piece_colors[p] for row in self.get_current_board_state() for p in row]\n",
    "        else:\n",
    "            img = [self.piece_colors[p] for row in self.board for p in row]\n",
    "        img = np.array(img).reshape((self.height, self.width, 3)).astype(np.uint8)\n",
    "        img = img[..., ::-1]\n",
    "        img = Image.fromarray(img, \"RGB\")\n",
    "\n",
    "        img = img.resize((self.width * self.block_size, self.height * self.block_size))\n",
    "        img = np.array(img)\n",
    "        img[[i * self.block_size for i in range(self.height)], :, :] = 0\n",
    "        img[:, [i * self.block_size for i in range(self.width)], :] = 0\n",
    "\n",
    "        img = np.concatenate((img, self.extra_board), axis=1)\n",
    "\n",
    "\n",
    "        cv2.putText(img, \"Score:\", (self.width * self.block_size + int(self.block_size / 2), self.block_size),\n",
    "                    fontFace=cv2.FONT_HERSHEY_DUPLEX, fontScale=1.0, color=self.text_color)\n",
    "        cv2.putText(img, str(self.score),\n",
    "                    (self.width * self.block_size + int(self.block_size / 2), 2 * self.block_size),\n",
    "                    fontFace=cv2.FONT_HERSHEY_DUPLEX, fontScale=1.0, color=self.text_color)\n",
    "\n",
    "        cv2.putText(img, \"Pieces:\", (self.width * self.block_size + int(self.block_size / 2), 4 * self.block_size),\n",
    "                    fontFace=cv2.FONT_HERSHEY_DUPLEX, fontScale=1.0, color=self.text_color)\n",
    "        cv2.putText(img, str(self.tetrominoes),\n",
    "                    (self.width * self.block_size + int(self.block_size / 2), 5 * self.block_size),\n",
    "                    fontFace=cv2.FONT_HERSHEY_DUPLEX, fontScale=1.0, color=self.text_color)\n",
    "\n",
    "        cv2.putText(img, \"Lines:\", (self.width * self.block_size + int(self.block_size / 2), 7 * self.block_size),\n",
    "                    fontFace=cv2.FONT_HERSHEY_DUPLEX, fontScale=1.0, color=self.text_color)\n",
    "        cv2.putText(img, str(self.cleared_lines),\n",
    "                    (self.width * self.block_size + int(self.block_size / 2), 8 * self.block_size),\n",
    "                    fontFace=cv2.FONT_HERSHEY_DUPLEX, fontScale=1.0, color=self.text_color)\n",
    "\n",
    "        if video:\n",
    "            video.write(img)\n",
    "\n",
    "        cv2.imshow(\"Deep Q-Learning Tetris\", img)\n",
    "        cv2.waitKey(1)"
   ]
  },
  {
   "cell_type": "code",
   "execution_count": 2,
   "metadata": {},
   "outputs": [
    {
     "data": {
      "text/plain": [
       "[[[1, 1], [1, 1]],\n",
       " [[0, 2, 0], [2, 2, 2]],\n",
       " [[0, 3, 3], [3, 3, 0]],\n",
       " [[4, 4, 0], [0, 4, 4]],\n",
       " [[5, 5, 5, 5]],\n",
       " [[0, 0, 6], [6, 6, 6]],\n",
       " [[7, 0, 0], [7, 7, 7]]]"
      ]
     },
     "execution_count": 2,
     "metadata": {},
     "output_type": "execute_result"
    }
   ],
   "source": [
    "env = Tetris()\n",
    "env.pieces"
   ]
  },
  {
   "cell_type": "code",
   "execution_count": 3,
   "metadata": {},
   "outputs": [
    {
     "data": {
      "text/plain": [
       "7"
      ]
     },
     "execution_count": 3,
     "metadata": {},
     "output_type": "execute_result"
    }
   ],
   "source": [
    "len(env.pieces)"
   ]
  },
  {
   "cell_type": "code",
   "execution_count": 4,
   "metadata": {},
   "outputs": [
    {
     "data": {
      "text/plain": [
       "[0, 4, 6, 2, 5, 1, 3]"
      ]
     },
     "execution_count": 4,
     "metadata": {},
     "output_type": "execute_result"
    }
   ],
   "source": [
    "bag = list(range(len(env.pieces)))\n",
    "random.shuffle(bag)\n",
    "bag"
   ]
  },
  {
   "cell_type": "code",
   "execution_count": 47,
   "metadata": {},
   "outputs": [
    {
     "data": {
      "text/plain": [
       "5"
      ]
     },
     "execution_count": 47,
     "metadata": {},
     "output_type": "execute_result"
    }
   ],
   "source": [
    "ind=bag.pop()\n",
    "ind"
   ]
  },
  {
   "cell_type": "code",
   "execution_count": 14,
   "metadata": {},
   "outputs": [
    {
     "data": {
      "text/plain": [
       "[[0, 2, 0], [2, 2, 2]]"
      ]
     },
     "execution_count": 14,
     "metadata": {},
     "output_type": "execute_result"
    }
   ],
   "source": [
    "piece=[row[:] for row in env.pieces[ind]]\n",
    "piece"
   ]
  },
  {
   "cell_type": "code",
   "execution_count": 15,
   "metadata": {},
   "outputs": [
    {
     "data": {
      "text/plain": [
       "[[2, 0], [2, 2], [2, 0]]"
      ]
     },
     "execution_count": 15,
     "metadata": {},
     "output_type": "execute_result"
    }
   ],
   "source": [
    "piece = env.rotate(piece)\n",
    "piece"
   ]
  },
  {
   "cell_type": "code",
   "execution_count": 48,
   "metadata": {},
   "outputs": [
    {
     "data": {
      "text/plain": [
       "[1, 1]"
      ]
     },
     "execution_count": 48,
     "metadata": {},
     "output_type": "execute_result"
    }
   ],
   "source": [
    "piece[0]"
   ]
  },
  {
   "cell_type": "code",
   "execution_count": 50,
   "metadata": {},
   "outputs": [
    {
     "data": {
      "text/plain": [
       "{'x': 4, 'y': 0}"
      ]
     },
     "execution_count": 50,
     "metadata": {},
     "output_type": "execute_result"
    }
   ],
   "source": [
    "current_pos = {\"x\": env.width // 2 - len(piece[0]) // 2, \"y\": 0}\n",
    "current_pos"
   ]
  },
  {
   "cell_type": "code",
   "execution_count": 53,
   "metadata": {},
   "outputs": [
    {
     "data": {
      "text/plain": [
       "[[1, 1], [1, 1]]"
      ]
     },
     "execution_count": 53,
     "metadata": {},
     "output_type": "execute_result"
    }
   ],
   "source": [
    "curr_piece = [row[:] for row in piece]\n",
    "curr_piece"
   ]
  },
  {
   "cell_type": "code",
   "execution_count": 55,
   "metadata": {},
   "outputs": [
    {
     "data": {
      "text/plain": [
       "2"
      ]
     },
     "execution_count": 55,
     "metadata": {},
     "output_type": "execute_result"
    }
   ],
   "source": [
    "len(curr_piece[0])"
   ]
  },
  {
   "cell_type": "code",
   "execution_count": 57,
   "metadata": {},
   "outputs": [
    {
     "data": {
      "text/plain": [
       "[[1, 1], [1, 1]]"
      ]
     },
     "execution_count": 57,
     "metadata": {},
     "output_type": "execute_result"
    }
   ],
   "source": [
    "piece = [row[:] for row in curr_piece]\n",
    "piece"
   ]
  },
  {
   "cell_type": "code",
   "execution_count": null,
   "metadata": {},
   "outputs": [],
   "source": []
  },
  {
   "cell_type": "code",
   "execution_count": 14,
   "metadata": {},
   "outputs": [
    {
     "data": {
      "text/plain": [
       "array([list([[1, 1], [1, 1]]), list([[0, 2, 0], [2, 2, 2]]),\n",
       "       list([[0, 3, 3], [3, 3, 0]]), list([[4, 4, 0], [0, 4, 4]]),\n",
       "       list([[5, 5, 5, 5]]), list([[0, 0, 6], [6, 6, 6]]),\n",
       "       list([[7, 0, 0], [7, 7, 7]])], dtype=object)"
      ]
     },
     "execution_count": 14,
     "metadata": {},
     "output_type": "execute_result"
    }
   ],
   "source": [
    "np.array(env.pieces)\n",
    "#env.pieces.shape()"
   ]
  },
  {
   "cell_type": "code",
   "execution_count": 16,
   "metadata": {},
   "outputs": [
    {
     "data": {
      "text/plain": [
       "[[0, 0, 0, 0, 0, 0, 0, 0, 0, 0],\n",
       " [0, 0, 0, 0, 0, 0, 0, 0, 0, 0],\n",
       " [0, 0, 0, 0, 0, 0, 0, 0, 0, 0],\n",
       " [0, 0, 0, 0, 0, 0, 0, 0, 0, 0],\n",
       " [0, 0, 0, 0, 0, 0, 0, 0, 0, 0],\n",
       " [0, 0, 0, 0, 0, 0, 0, 0, 0, 0],\n",
       " [0, 0, 0, 0, 0, 0, 0, 0, 0, 0],\n",
       " [0, 0, 0, 0, 0, 0, 0, 0, 0, 0],\n",
       " [0, 0, 0, 0, 0, 0, 0, 0, 0, 0],\n",
       " [0, 0, 0, 0, 0, 0, 0, 0, 0, 0],\n",
       " [0, 0, 0, 0, 0, 0, 0, 0, 0, 0],\n",
       " [0, 0, 0, 0, 0, 0, 0, 0, 0, 0],\n",
       " [0, 0, 0, 0, 0, 0, 0, 0, 0, 0],\n",
       " [0, 0, 0, 0, 0, 0, 0, 0, 0, 0],\n",
       " [0, 0, 0, 0, 0, 0, 0, 0, 0, 0],\n",
       " [0, 0, 0, 0, 0, 0, 0, 0, 0, 0],\n",
       " [0, 0, 0, 0, 0, 0, 0, 0, 0, 0],\n",
       " [0, 0, 0, 0, 0, 0, 0, 0, 0, 0],\n",
       " [0, 0, 0, 0, 0, 0, 0, 0, 0, 0],\n",
       " [0, 0, 0, 0, 0, 0, 0, 0, 0, 0]]"
      ]
     },
     "execution_count": 16,
     "metadata": {},
     "output_type": "execute_result"
    }
   ],
   "source": [
    "env.board"
   ]
  },
  {
   "cell_type": "code",
   "execution_count": 17,
   "metadata": {},
   "outputs": [
    {
     "data": {
      "text/plain": [
       "tensor([0., 0., 0., 0.])"
      ]
     },
     "execution_count": 17,
     "metadata": {},
     "output_type": "execute_result"
    }
   ],
   "source": [
    "env.get_state_properties(env.board)"
   ]
  },
  {
   "cell_type": "code",
   "execution_count": 18,
   "metadata": {},
   "outputs": [
    {
     "data": {
      "text/plain": [
       "(0,\n",
       " [[0, 0, 0, 0, 0, 0, 0, 0, 0, 0],\n",
       "  [0, 0, 0, 0, 0, 0, 0, 0, 0, 0],\n",
       "  [0, 0, 0, 0, 0, 0, 0, 0, 0, 0],\n",
       "  [0, 0, 0, 0, 0, 0, 0, 0, 0, 0],\n",
       "  [0, 0, 0, 0, 0, 0, 0, 0, 0, 0],\n",
       "  [0, 0, 0, 0, 0, 0, 0, 0, 0, 0],\n",
       "  [0, 0, 0, 0, 0, 0, 0, 0, 0, 0],\n",
       "  [0, 0, 0, 0, 0, 0, 0, 0, 0, 0],\n",
       "  [0, 0, 0, 0, 0, 0, 0, 0, 0, 0],\n",
       "  [0, 0, 0, 0, 0, 0, 0, 0, 0, 0],\n",
       "  [0, 0, 0, 0, 0, 0, 0, 0, 0, 0],\n",
       "  [0, 0, 0, 0, 0, 0, 0, 0, 0, 0],\n",
       "  [0, 0, 0, 0, 0, 0, 0, 0, 0, 0],\n",
       "  [0, 0, 0, 0, 0, 0, 0, 0, 0, 0],\n",
       "  [0, 0, 0, 0, 0, 0, 0, 0, 0, 0],\n",
       "  [0, 0, 0, 0, 0, 0, 0, 0, 0, 0],\n",
       "  [0, 0, 0, 0, 0, 0, 0, 0, 0, 0],\n",
       "  [0, 0, 0, 0, 0, 0, 0, 0, 0, 0],\n",
       "  [0, 0, 0, 0, 0, 0, 0, 0, 0, 0],\n",
       "  [0, 0, 0, 0, 0, 0, 0, 0, 0, 0]])"
      ]
     },
     "execution_count": 18,
     "metadata": {},
     "output_type": "execute_result"
    }
   ],
   "source": [
    "env.check_cleared_rows(env.board)"
   ]
  },
  {
   "cell_type": "code",
   "execution_count": 46,
   "metadata": {},
   "outputs": [
    {
     "data": {
      "text/plain": [
       "{(0, 0): tensor([0., 0., 3., 4.]),\n",
       " (1, 0): tensor([0., 0., 4., 4.]),\n",
       " (2, 0): tensor([0., 0., 4., 4.]),\n",
       " (3, 0): tensor([0., 0., 4., 4.]),\n",
       " (4, 0): tensor([0., 0., 4., 4.]),\n",
       " (5, 0): tensor([0., 0., 4., 4.]),\n",
       " (6, 0): tensor([0., 0., 4., 4.]),\n",
       " (7, 0): tensor([0., 0., 2., 4.]),\n",
       " (0, 1): tensor([0., 0., 3., 4.]),\n",
       " (1, 1): tensor([0., 0., 6., 4.]),\n",
       " (2, 1): tensor([0., 0., 6., 4.]),\n",
       " (3, 1): tensor([0., 0., 6., 4.]),\n",
       " (4, 1): tensor([0., 0., 6., 4.]),\n",
       " (5, 1): tensor([0., 0., 6., 4.]),\n",
       " (6, 1): tensor([0., 0., 6., 4.]),\n",
       " (7, 1): tensor([0., 0., 6., 4.]),\n",
       " (8, 1): tensor([0., 0., 5., 4.]),\n",
       " (0, 2): tensor([0., 2., 2., 6.]),\n",
       " (1, 2): tensor([0., 2., 4., 6.]),\n",
       " (2, 2): tensor([0., 2., 4., 6.]),\n",
       " (3, 2): tensor([0., 2., 4., 6.]),\n",
       " (4, 2): tensor([0., 2., 4., 6.]),\n",
       " (5, 2): tensor([0., 2., 4., 6.]),\n",
       " (6, 2): tensor([0., 2., 4., 6.]),\n",
       " (7, 2): tensor([0., 2., 2., 6.]),\n",
       " (0, 3): tensor([0., 2., 3., 6.]),\n",
       " (1, 3): tensor([0., 2., 6., 6.]),\n",
       " (2, 3): tensor([0., 2., 6., 6.]),\n",
       " (3, 3): tensor([0., 2., 6., 6.]),\n",
       " (4, 3): tensor([0., 2., 6., 6.]),\n",
       " (5, 3): tensor([0., 2., 6., 6.]),\n",
       " (6, 3): tensor([0., 2., 6., 6.]),\n",
       " (7, 3): tensor([0., 2., 6., 6.]),\n",
       " (8, 3): tensor([0., 2., 3., 6.])}"
      ]
     },
     "execution_count": 46,
     "metadata": {},
     "output_type": "execute_result"
    }
   ],
   "source": [
    "next_steps = env.get_next_states()\n",
    "next_actions, next_states = zip(*next_steps.items())\n",
    "next_steps\n",
    "#print(next_actions)\n",
    "#print(next_states)\n",
    "#len(next_steps) - 1"
   ]
  },
  {
   "cell_type": "code",
   "execution_count": 29,
   "metadata": {},
   "outputs": [
    {
     "name": "stdout",
     "output_type": "stream",
     "text": [
      "0.723358046544911 False\n"
     ]
    }
   ],
   "source": [
    "from random import random\n",
    "u = random()\n",
    "random_action = u <= 0.5\n",
    "print(u, random_action)"
   ]
  },
  {
   "cell_type": "code",
   "execution_count": null,
   "metadata": {},
   "outputs": [],
   "source": [
    "next_actions, next_states = zip(*next_steps.items())"
   ]
  }
 ],
 "metadata": {
  "kernelspec": {
   "display_name": "Python 3",
   "language": "python",
   "name": "python3"
  },
  "language_info": {
   "codemirror_mode": {
    "name": "ipython",
    "version": 3
   },
   "file_extension": ".py",
   "mimetype": "text/x-python",
   "name": "python",
   "nbconvert_exporter": "python",
   "pygments_lexer": "ipython3",
   "version": "3.7.7"
  }
 },
 "nbformat": 4,
 "nbformat_minor": 4
}
